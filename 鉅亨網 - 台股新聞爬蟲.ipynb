{
 "cells": [
  {
   "cell_type": "code",
   "execution_count": 2,
   "metadata": {},
   "outputs": [],
   "source": [
    "import pandas as pd\n",
    "import requests\n",
    "import time"
   ]
  },
  {
   "cell_type": "code",
   "execution_count": 3,
   "metadata": {},
   "outputs": [],
   "source": [
    "def transform_date_format(date):\n",
    "    return time.strftime('%Y/%m/%d %H:%M:%S', time.gmtime(date))"
   ]
  },
  {
   "cell_type": "code",
   "execution_count": 7,
   "metadata": {
    "scrolled": true
   },
   "outputs": [
    {
     "name": "stdout",
     "output_type": "stream",
     "text": [
      "Page 1 is finished...\n",
      "Page 2 is finished...\n",
      "Page 3 is finished...\n",
      "Page 4 is finished...\n",
      "Page 5 is finished...\n",
      "Page 6 is finished...\n",
      "Page 7 is finished...\n",
      "Page 8 is finished...\n",
      "Page 9 is finished...\n",
      "Page 10 is finished...\n",
      "Page 11 is finished...\n",
      "Page 12 is finished...\n",
      "Page 13 is finished...\n",
      "Page 14 is finished...\n",
      "Page 15 is finished...\n",
      "Page 16 is finished...\n",
      "Page 17 is finished...\n",
      "Page 18 is finished...\n",
      "Page 19 is finished...\n",
      "Page 20 is finished...\n",
      "Page 21 is finished...\n",
      "Page 22 is finished...\n",
      "Page 23 is finished...\n",
      "Page 24 is finished...\n",
      "Page 25 is finished...\n",
      "Page 26 is finished...\n",
      "Page 27 is finished...\n",
      "Page 28 is finished...\n",
      "Page 29 is finished...\n",
      "Page 30 is finished...\n",
      "Page 31 is finished...\n",
      "Page 32 is finished...\n",
      "Page 33 is finished...\n",
      "Page 34 is finished...\n",
      "Page 35 is finished...\n",
      "Page 36 is finished...\n",
      "Page 37 is finished...\n",
      "Page 38 is finished...\n",
      "Page 39 is finished...\n",
      "Page 40 is finished...\n",
      "Page 41 is finished...\n",
      "Page 42 is finished...\n",
      "Page 43 is finished...\n",
      "Page 44 is finished...\n",
      "Page 45 is finished...\n",
      "Page 46 is finished...\n",
      "Page 47 is finished...\n",
      "Page 48 is finished...\n",
      "Page 49 is finished...\n",
      "Page 50 is finished...\n",
      "Page 51 is finished...\n",
      "Page 52 is finished...\n",
      "Page 53 is finished...\n",
      "finish !\n"
     ]
    }
   ],
   "source": [
    "# 匯入JSON檔\n",
    "initial_url = \"https://news.cnyes.com/api/v3/news/category/tw_stock\"\n",
    "target_url = initial_url\n",
    "\n",
    "news_collection = pd.DataFrame()\n",
    "while True:\n",
    "    response = requests.get(target_url) # 匯入第一頁url\n",
    "    response_dict = response.json()\n",
    "    \n",
    "    response_status = response_dict['statusCode']\n",
    "    target_url = response_dict['items']['next_page_url'] # 紀錄下一頁url\n",
    "    if target_url == None: # 最後一頁則不再紀錄\n",
    "        print('finish !')\n",
    "        break\n",
    "    target_url = 'https://news.cnyes.com/' + target_url\n",
    "    current_page = response_dict['items']['current_page']\n",
    "    \n",
    "    assert response_status==200, f\"Error code: {response_status}\" # statusCode若=200表示伺服器傳送成功\n",
    "    \n",
    "    current_page_news_collection = pd.DataFrame() # 為當頁的新聞建立dataframe，再concact在一起\n",
    "    for i in range(len(response_dict['items']['data'])):\n",
    "        current_news = response_dict['items']['data'][i]\n",
    "        title = current_news['title']\n",
    "        date = transform_date_format(current_news['publishAt'])\n",
    "\n",
    "        related_stock = pd.DataFrame(current_news['market'])\n",
    "        if len(related_stock) > 0:\n",
    "            related_stock_code = related_stock['code'].values\n",
    "            related_stock_code = ''\n",
    "            for x in related_stock['code'].values:\n",
    "                related_stock_code += x\n",
    "                related_stock_code += ', '\n",
    "            related_stock_code = related_stock_code[:-2]\n",
    "\n",
    "            related_stock_name = related_stock['name'].values\n",
    "            related_stock_name = ''\n",
    "            for x in related_stock['name'].values:\n",
    "                related_stock_name += x\n",
    "                related_stock_name += ', '\n",
    "            related_stock_name = related_stock_name[:-2]\n",
    "        else:\n",
    "            related_stock_code = None\n",
    "            related_stock_name = None\n",
    "\n",
    "        news_url = 'https://news.cnyes.com/news/id/{}?exp=a'.format(current_news['newsId'])\n",
    "\n",
    "        single_news = pd.DataFrame(\n",
    "            [\n",
    "                [title, date, related_stock_code, related_stock_name, news_url]\n",
    "            ],\n",
    "            columns=[\n",
    "                '新聞標題', '發布時點', '相關個股代碼', '相關個股名稱', '新聞網址' \n",
    "            ]\n",
    "        )\n",
    "\n",
    "        current_page_news_collection = pd.concat([\n",
    "            current_page_news_collection,\n",
    "            single_news\n",
    "        ])\n",
    "\n",
    "    news_collection = pd.concat([\n",
    "        news_collection,\n",
    "        current_page_news_collection\n",
    "    ])\n",
    "    \n",
    "    print(f'Page {current_page} is finished...')\n",
    "    \n",
    "    time.sleep(0.5)"
   ]
  },
  {
   "cell_type": "markdown",
   "metadata": {},
   "source": [
    "# 更新用"
   ]
  },
  {
   "cell_type": "code",
   "execution_count": 10,
   "metadata": {},
   "outputs": [],
   "source": [
    "# previous_news_collection = pd.read_excel('news_collection.xlsx')\n",
    "# news_collection = pd.concat([\n",
    "#     previous_news_collection,\n",
    "#     news_collection\n",
    "# ])\n",
    "\n",
    "# news_collection = news_collection.drop_duplicates()\n",
    "# news_collection.to_excel('news_collection.xlsx', index=False)"
   ]
  },
  {
   "cell_type": "markdown",
   "metadata": {},
   "source": [
    "# 輿情分析-篩選負面字詞的新聞標的並給予正負分數"
   ]
  },
  {
   "cell_type": "code",
   "execution_count": 8,
   "metadata": {},
   "outputs": [
    {
     "name": "stderr",
     "output_type": "stream",
     "text": [
      "Building prefix dict from /Users/yvette/Python/鉅亨網 - 台股新聞爬蟲/dictionary/dict.txt.big ...\n",
      "Loading model from cache /var/folders/r_/rz7m20_x5pq002gc649c_2sr0000gn/T/jieba.u882fb41e960931c0951f08357a1f4fb2.cache\n",
      "Loading model cost 0.801 seconds.\n",
      "Prefix dict has been built successfully.\n"
     ]
    }
   ],
   "source": [
    "import jieba\n",
    "\n",
    "jieba.set_dictionary('/Users/yvette/Python/鉅亨網 - 台股新聞爬蟲/dictionary/dict.txt.big')\n",
    "\n",
    "with open('/Users/yvette/Python/鉅亨網 - 台股新聞爬蟲/dictionary/NTUSD_positive_unicode.txt') as f:\n",
    "    positive_words = []\n",
    "    for l in f:\n",
    "        positive_words.append(l.strip())\n",
    " \n",
    "with open('/Users/yvette/Python/鉅亨網 - 台股新聞爬蟲/dictionary/NTUSD_negative_unicode.txt') as f:\n",
    "    negative_words = []\n",
    "    for l in f:\n",
    "        negative_words.append(l.strip())\n",
    "\n",
    "news_collection.dropna(inplace=True)\n",
    "        \n",
    "scorelist=[]\n",
    "for i in range(len(news_collection)):\n",
    "    text = news_collection['新聞標題'].iloc[i]\n",
    "    seg_list = jieba.cut(text, cut_all=False, HMM=True)\n",
    "    score = 0\n",
    "    jieba_result = jieba.cut(text, cut_all=False, HMM=True)\n",
    "    for word in jieba_result:\n",
    "        if word in positive_words:\n",
    "            score += 1\n",
    "            # print(f'詞彙:{word}, 總分:{score}')\n",
    "        elif word in negative_words:\n",
    "            score -= 1\n",
    "            # print(f'詞彙:{word}, 總分:{score}')\n",
    "        else:\n",
    "            pass\n",
    "    scorelist.append(score)\n",
    "\n",
    "    \n",
    "news_collection['輿情分數']=scorelist\n",
    "\n",
    "# news_collection.to_excel('news_collection.xlsx')"
   ]
  },
  {
   "cell_type": "code",
   "execution_count": null,
   "metadata": {},
   "outputs": [],
   "source": []
  }
 ],
 "metadata": {
  "kernelspec": {
   "display_name": "Python 3",
   "language": "python",
   "name": "python3"
  },
  "language_info": {
   "codemirror_mode": {
    "name": "ipython",
    "version": 3
   },
   "file_extension": ".py",
   "mimetype": "text/x-python",
   "name": "python",
   "nbconvert_exporter": "python",
   "pygments_lexer": "ipython3",
   "version": "3.8.5"
  }
 },
 "nbformat": 4,
 "nbformat_minor": 2
}
